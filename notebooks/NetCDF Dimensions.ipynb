{
 "cells": [
  {
   "cell_type": "code",
   "execution_count": 2,
   "metadata": {},
   "outputs": [],
   "source": [
    "using NetCDF"
   ]
  },
  {
   "cell_type": "code",
   "execution_count": 3,
   "metadata": {},
   "outputs": [
    {
     "name": "stdout",
     "output_type": "stream",
     "text": [
      "\n",
      "##### NetCDF File #####\n",
      "\n",
      "/Users/halverso/Downloads/EMIT_L2A_RFL_001_20240521T232728_2414216_003.nc\n",
      "\n",
      "##### Dimensions #####\n",
      "\n",
      "Name                                                Length                    \n",
      "--------------------------------------------------------------------------------\n",
      "bands                                               285                       \n",
      "downtrack                                           1280                      \n",
      "ortho_x                                             2327                      \n",
      "ortho_y                                             1893                      \n",
      "crosstrack                                          1242                      \n",
      "\n",
      "##### Variables #####\n",
      "\n",
      "Name                            Type            Dimensions                      \n",
      "--------------------------------------------------------------------------------\n",
      "reflectance                     FLOAT           bands crosstrack downtrack      \n",
      "\n",
      "##### Attributes #####\n",
      "\n",
      "Variable            Name                Value                                   \n",
      "--------------------------------------------------------------------------------\n",
      "global              date_created        2024-05-23T15:58:15Z                    \n",
      "global              software_build_ver..010618                                  \n",
      "global              easternmost_longit..-114.84187059769744                     \n",
      "global              keywords            Imaging Spectroscopy, minerals, EMIT, ..\n",
      "global              time_coverage_end   2024-05-21T23:27:40+0000                \n",
      "global              northernmost_latit..33.9515655017347                        \n",
      "global              ncei_template_vers..NCEI_NetCDF_Swath_Template_v2.0         \n",
      "global              publisher_email     lpdaac@usgs.gov                         \n",
      "global              time_coverage_start 2024-05-21T23:27:28+0000                \n",
      "global              history             PGE Run Command: {python /beegfs/store..\n",
      "global              crosstrack_orienta..as seen on ground                       \n",
      "global              sensor              EMIT (Earth Surface Mineral Dust Sourc..\n",
      "global              platform            ISS                                     \n",
      "global              stdname_vocabulary  NetCDF Climate and Forecast (CF) Metad..\n",
      "global              publisher_url       https://lpdaac.usgs.gov                 \n",
      "global              product_version     V001                                    \n",
      "global              project_url         https://earth.jpl.nasa.gov/emit/        \n",
      "global              summary             The Earth Surface Mineral Dust Source ..\n",
      "global              naming_authority    LPDAAC                                  \n",
      "global              flight_line         emit20240521t232728_o14216_s000         \n",
      "global              software_delivery_..010618                                  \n",
      "global              westernmost_longit..-116.103645672334                       \n",
      "global              spatial_ref         GEOGCS[\"WGS 84\",DATUM[\"WGS_1984\",SPHER..\n",
      "global              geotransform        [-116.103645672334, 0.0005422325202563..\n",
      "global              creator_url         https://earth.jpl.nasa.gov/emit/        \n",
      "global              identifier_product..https://doi.org                         \n",
      "global              Conventions         CF-1.63                                 \n",
      "global              creator_name        Jet Propulsion Laboratory/California I..\n",
      "global              project             Earth Surface Mineral Dust Source Inve..\n",
      "global              instrument          EMIT                                    \n",
      "global              publisher_name      NASA LPDAAC                             \n",
      "global              day_night_flag      Day                                     \n",
      "global              title               EMIT L2A Estimated Surface Reflectance..\n",
      "global              southernmost_latit..32.925119340889395                      \n",
      "global              institution         NASA Jet Propulsion Laboratory/Califor..\n",
      "global              license             https://science.nasa.gov/earth-science..\n",
      "global              keywords_vocabulary NASA Global Change Master Directory (G..\n",
      "global              spatialResolution   0.000542232520256367                    \n",
      "reflectance         units               unitless                                \n",
      "reflectance         long_name           Surface Reflectance                     \n",
      "reflectance         _FillValue          -9999.0                                 \n"
     ]
    }
   ],
   "source": [
    "filename = joinpath(expanduser(\"~\"), \"Downloads\", \"EMIT_L2A_RFL_001_20240521T232728_2414216_003.nc\")\n",
    "ncinfo(filename)"
   ]
  },
  {
   "cell_type": "code",
   "execution_count": 6,
   "metadata": {},
   "outputs": [
    {
     "ename": "UndefVarError",
     "evalue": "UndefVarError: dimensions not defined",
     "output_type": "error",
     "traceback": [
      "UndefVarError: dimensions not defined\n",
      "\n",
      "Stacktrace:\n",
      " [1] getproperty(x::Module, f::Symbol)\n",
      "   @ Base ./Base.jl:31\n",
      " [2] top-level scope\n",
      "   @ ~/Projects/EMITReflectance.jl/notebooks/NetCDF Dimensions.ipynb:5"
     ]
    }
   ],
   "source": [
    "# Open the NetCDF file\n",
    "ds = NetCDF.open(filename)\n",
    "\n",
    "# Get dimension names and their sizes\n",
    "dim_names = keys(NetCDF.dimensions(ds))\n",
    "dim_sizes = Dict{String, Int}()\n",
    "dim_values = Dict{String, Array}()\n",
    "\n",
    "for dim_name in dim_names\n",
    "    dim_size = NetCDF.dimsize(ds, dim_name)\n",
    "    dim_sizes[dim_name] = dim_size\n",
    "    dim_values[dim_name] = 1:dim_size  # Simple range as placeholder for dimension values\n",
    "end\n",
    "\n",
    "# Close the NetCDF file\n",
    "NetCDF.close(ds)\n",
    "\n",
    "# Print dimension sizes and values\n",
    "println(\"Dimension Sizes: \", dim_sizes)\n",
    "println(\"Dimension Values: \", dim_values)"
   ]
  },
  {
   "cell_type": "code",
   "execution_count": null,
   "metadata": {},
   "outputs": [],
   "source": []
  }
 ],
 "metadata": {
  "kernelspec": {
   "display_name": "Julia 1.8.5",
   "language": "julia",
   "name": "julia-1.8"
  },
  "language_info": {
   "file_extension": ".jl",
   "mimetype": "application/julia",
   "name": "julia",
   "version": "1.8.5"
  }
 },
 "nbformat": 4,
 "nbformat_minor": 2
}
