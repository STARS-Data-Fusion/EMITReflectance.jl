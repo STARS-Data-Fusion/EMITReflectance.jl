{
 "cells": [
  {
   "cell_type": "markdown",
   "metadata": {},
   "source": [
    "Load `NCDatasets.jl` package"
   ]
  },
  {
   "cell_type": "code",
   "execution_count": 1,
   "metadata": {},
   "outputs": [],
   "source": [
    "using NCDatasets"
   ]
  },
  {
   "cell_type": "markdown",
   "metadata": {},
   "source": [
    "Example EMIT L2A surface reflectance NetCDF file"
   ]
  },
  {
   "cell_type": "code",
   "execution_count": 4,
   "metadata": {},
   "outputs": [
    {
     "data": {
      "text/plain": [
       "\"/Users/gregoryhalverson/Downloads/EMIT_L2A_RFL_001_20240521T232728_2414216_003.nc\""
      ]
     },
     "metadata": {},
     "output_type": "display_data"
    }
   ],
   "source": [
    "filename = joinpath(expanduser(\"~\"), \"Downloads\", \"EMIT_L2A_RFL_001_20240521T232728_2414216_003.nc\")"
   ]
  },
  {
   "cell_type": "markdown",
   "metadata": {},
   "source": [
    "Read the NetCDF dataset"
   ]
  },
  {
   "cell_type": "code",
   "execution_count": 5,
   "metadata": {},
   "outputs": [
    {
     "data": {
      "text/plain": [
       "\u001b[31mDataset: /Users/gregoryhalverson/Downloads/EMIT_L2A_RFL_001_20240521T232728_2414216_003.nc\u001b[39m\n",
       "Group: /\n",
       "\n",
       "\u001b[31mDimensions\u001b[39m\n",
       "   downtrack = 1280\n",
       "   crosstrack = 1242\n",
       "   bands = 285\n",
       "   ortho_y = 1893\n",
       "   ortho_x = 2327\n",
       "\n",
       "\u001b[31mVariables\u001b[39m\n",
       "\u001b[32m  reflectance\u001b[39m   (285 × 1242 × 1280)\n",
       "    Datatype:    \u001b[0m\u001b[1mUnion{Missing, Float32}\u001b[22m (Float32)\n",
       "    Dimensions:  bands × crosstrack × downtrack\n",
       "    Attributes:\n",
       "     _FillValue           = \u001b[36m-9999.0\u001b[39m\n",
       "     long_name            = \u001b[36mSurface Reflectance\u001b[39m\n",
       "     units                = \u001b[36munitless\u001b[39m\n",
       "\n",
       "\u001b[31mGlobal attributes\u001b[39m\n",
       "  ncei_template_version = \u001b[36mNCEI_NetCDF_Swath_Template_v2.0\u001b[39m\n",
       "  summary              = \u001b[36mThe Earth Surface Mineral Dust Source Investigation (EMIT) is an Earth Ventures-Instrument (EVI-4) Mission that maps the surface mineralogy of arid dust source regions via imaging spectroscopy in the visible and short-wave infrared (VSWIR). Installed on the International Space Station (ISS), the EMIT instrument is a Dyson imaging spectrometer that uses contiguous spectroscopic measurements from 410 to 2450 nm to resolve absoprtion features of iron oxides, clays, sulfates, carbonates, and other dust-forming minerals. During its one-year mission, EMIT will observe the sunlit Earth's dust source regions that occur within +/-52° latitude and produce maps of the source regions that can be used to improve forecasts of the role of mineral dust in the radiative forcing (warming or cooling) of the atmosphere.\\n\\nThis file contains L2A estimated surface reflectances and geolocation data. Reflectance estimates are created using an Optimal Estimation technique - see ATBD for details. Reflectance values are reported as fractions (relative to 1). Geolocation data (latitude, longitude, height) and a lookup table to project the data are also included.\u001b[39m\n",
       "  keywords             = \u001b[36mImaging Spectroscopy, minerals, EMIT, dust, radiative forcing\u001b[39m\n",
       "  Conventions          = \u001b[36mCF-1.63\u001b[39m\n",
       "  sensor               = \u001b[36mEMIT (Earth Surface Mineral Dust Source Investigation)\u001b[39m\n",
       "  instrument           = \u001b[36mEMIT\u001b[39m\n",
       "  platform             = \u001b[36mISS\u001b[39m\n",
       "  institution          = \u001b[36mNASA Jet Propulsion Laboratory/California Institute of Technology\u001b[39m\n",
       "  license              = \u001b[36mhttps://science.nasa.gov/earth-science/earth-science-data/data-information-policy/\u001b[39m\n",
       "  naming_authority     = \u001b[36mLPDAAC\u001b[39m\n",
       "  date_created         = \u001b[36m2024-05-23T15:58:15Z\u001b[39m\n",
       "  keywords_vocabulary  = \u001b[36mNASA Global Change Master Directory (GCMD) Science Keywords\u001b[39m\n",
       "  stdname_vocabulary   = \u001b[36mNetCDF Climate and Forecast (CF) Metadata Convention\u001b[39m\n",
       "  creator_name         = \u001b[36mJet Propulsion Laboratory/California Institute of Technology\u001b[39m\n",
       "  creator_url          = \u001b[36mhttps://earth.jpl.nasa.gov/emit/\u001b[39m\n",
       "  project              = \u001b[36mEarth Surface Mineral Dust Source Investigation\u001b[39m\n",
       "  project_url          = \u001b[36mhttps://earth.jpl.nasa.gov/emit/\u001b[39m\n",
       "  publisher_name       = \u001b[36mNASA LPDAAC\u001b[39m\n",
       "  publisher_url        = \u001b[36mhttps://lpdaac.usgs.gov\u001b[39m\n",
       "  publisher_email      = \u001b[36mlpdaac@usgs.gov\u001b[39m\n",
       "  identifier_product_doi_authority = \u001b[36mhttps://doi.org\u001b[39m\n",
       "  flight_line          = \u001b[36memit20240521t232728_o14216_s000\u001b[39m\n",
       "  time_coverage_start  = \u001b[36m2024-05-21T23:27:28+0000\u001b[39m\n",
       "  time_coverage_end    = \u001b[36m2024-05-21T23:27:40+0000\u001b[39m\n",
       "  software_build_version = \u001b[36m010618\u001b[39m\n",
       "  software_delivery_version = \u001b[36m010618\u001b[39m\n",
       "  product_version      = \u001b[36mV001\u001b[39m\n",
       "  history              = \u001b[36mPGE Run Command: {python /beegfs/store/emit/ops/repos/emit-sds-l2a/spectrum_quality.py /tmp/emit/ops/emit20240521t232728_emit.L2AReflectance_20240523t023036/output/emit20240521t232728_rfl /tmp/emit/ops/emit20240521t232728_emit.L2AReflectance_20240523t023036/output/emit20240521t232728_rfl_quality.txt}, PGE Input Files: {radiance_file=/beegfs/store/emit/ops/data/acquisitions/20240521/emit20240521t232728/l1b/emit20240521t232728_o14216_s000_l1b_rdn_b0106_v01.img, pixel_locations_file=/beegfs/store/emit/ops/data/acquisitions/20240521/emit20240521t232728/l1b/emit20240521t232728_o14216_s000_l1b_loc_b0106_v01.img, observation_parameters_file=/beegfs/store/emit/ops/data/acquisitions/20240521/emit20240521t232728/l1b/emit20240521t232728_o14216_s000_l1b_obs_b0106_v01.img, surface_model_config=/beegfs/store/emit/ops/repos/emit-sds-l2a/surface/surface_20221020.json}\u001b[39m\n",
       "  crosstrack_orientation = \u001b[36mas seen on ground\u001b[39m\n",
       "  easternmost_longitude = \u001b[36m-114.84187059769744\u001b[39m\n",
       "  northernmost_latitude = \u001b[36m33.9515655017347\u001b[39m\n",
       "  westernmost_longitude = \u001b[36m-116.103645672334\u001b[39m\n",
       "  southernmost_latitude = \u001b[36m32.925119340889395\u001b[39m\n",
       "  spatialResolution    = \u001b[36m0.000542232520256367\u001b[39m\n",
       "  spatial_ref          = \u001b[36mGEOGCS[\"WGS 84\",DATUM[\"WGS_1984\",SPHEROID[\"WGS 84\",6378137,298.257223563,AUTHORITY[\"EPSG\",\"7030\"]],AUTHORITY[\"EPSG\",\"6326\"]],PRIMEM[\"Greenwich\",0,AUTHORITY[\"EPSG\",\"8901\"]],UNIT[\"degree\",0.0174532925199433,AUTHORITY[\"EPSG\",\"9122\"]],AXIS[\"Latitude\",NORTH],AXIS[\"Longitude\",EAST],AUTHORITY[\"EPSG\",\"4326\"]]\u001b[39m\n",
       "  geotransform         = \u001b[36m[-116.103645672334, 0.000542232520256367, -0.0, 33.9515655017347, -0.0, -0.000542232520256367]\u001b[39m\n",
       "  day_night_flag       = \u001b[36mDay\u001b[39m\n",
       "  title                = \u001b[36mEMIT L2A Estimated Surface Reflectance 60 m V001\u001b[39m\n",
       "\u001b[31mGroups\u001b[39m\n",
       "\u001b[31m  Dataset: /Users/gregoryhalverson/Downloads/EMIT_L2A_RFL_001_20240521T232728_2414216_003.nc\u001b[39m\n",
       "  Group: sensor_band_parameters\n",
       "\n",
       "\u001b[31m  Variables\u001b[39m\n",
       "\u001b[32m    wavelengths\u001b[39m     (285)\n",
       "      Datatype:    \u001b[0m\u001b[1mUnion{Missing, Float32}\u001b[22m (Float32)\n",
       "      Dimensions:  bands\n",
       "      Attributes:\n",
       "       _FillValue           = \u001b[36m-9999.0\u001b[39m\n",
       "       long_name            = \u001b[36mWavelength Centers\u001b[39m\n",
       "       units                = \u001b[36mnm\u001b[39m\n",
       "\n",
       "\u001b[32m    fwhm\u001b[39m     (285)\n",
       "      Datatype:    \u001b[0m\u001b[1mUnion{Missing, Float32}\u001b[22m (Float32)\n",
       "      Dimensions:  bands\n",
       "      Attributes:\n",
       "       _FillValue           = \u001b[36m-9999.0\u001b[39m\n",
       "       long_name            = \u001b[36mFull Width at Half Max\u001b[39m\n",
       "       units                = \u001b[36mnm\u001b[39m\n",
       "\n",
       "\u001b[32m    good_wavelengths\u001b[39m     (285)\n",
       "      Datatype:    \u001b[0m\u001b[1mUnion{Missing, UInt8}\u001b[22m (UInt8)\n",
       "      Dimensions:  bands\n",
       "      Attributes:\n",
       "       _FillValue           = \u001b[36m241\u001b[39m\n",
       "       long_name            = \u001b[36mWavelengths where reflectance is useable: 1 = good data, 0 = bad data\u001b[39m\n",
       "       units                = \u001b[36munitless\u001b[39m\n",
       "\n",
       "\u001b[31m  Dataset: /Users/gregoryhalverson/Downloads/EMIT_L2A_RFL_001_20240521T232728_2414216_003.nc\u001b[39m\n",
       "  Group: location\n",
       "\n",
       "\u001b[31m  Variables\u001b[39m\n",
       "\u001b[32m    lon\u001b[39m     (1242 × 1280)\n",
       "      Datatype:    \u001b[0m\u001b[1mUnion{Missing, Float64}\u001b[22m (Float64)\n",
       "      Dimensions:  crosstrack × downtrack\n",
       "      Attributes:\n",
       "       _FillValue           = \u001b[36m-9999.0\u001b[39m\n",
       "       long_name            = \u001b[36mLongitude (WGS-84)\u001b[39m\n",
       "       units                = \u001b[36mdegrees east\u001b[39m\n",
       "\n",
       "\u001b[32m    lat\u001b[39m     (1242 × 1280)\n",
       "      Datatype:    \u001b[0m\u001b[1mUnion{Missing, Float64}\u001b[22m (Float64)\n",
       "      Dimensions:  crosstrack × downtrack\n",
       "      Attributes:\n",
       "       _FillValue           = \u001b[36m-9999.0\u001b[39m\n",
       "       long_name            = \u001b[36mLatitude (WGS-84)\u001b[39m\n",
       "       units                = \u001b[36mdegrees north\u001b[39m\n",
       "\n",
       "\u001b[32m    elev\u001b[39m     (1242 × 1280)\n",
       "      Datatype:    \u001b[0m\u001b[1mUnion{Missing, Float64}\u001b[22m (Float64)\n",
       "      Dimensions:  crosstrack × downtrack\n",
       "      Attributes:\n",
       "       _FillValue           = \u001b[36m-9999.0\u001b[39m\n",
       "       long_name            = \u001b[36mSurface Elevation\u001b[39m\n",
       "       units                = \u001b[36mm\u001b[39m\n",
       "\n",
       "\u001b[32m    glt_x\u001b[39m     (2327 × 1893)\n",
       "      Datatype:    \u001b[0m\u001b[1mUnion{Missing, Int32}\u001b[22m (Int32)\n",
       "      Dimensions:  ortho_x × ortho_y\n",
       "      Attributes:\n",
       "       _FillValue           = \u001b[36m-9999\u001b[39m\n",
       "       long_name            = \u001b[36mGLT Sample Lookup\u001b[39m\n",
       "       units                = \u001b[36mpixel location\u001b[39m\n",
       "\n",
       "\u001b[32m    glt_y\u001b[39m     (2327 × 1893)\n",
       "      Datatype:    \u001b[0m\u001b[1mUnion{Missing, Int32}\u001b[22m (Int32)\n",
       "      Dimensions:  ortho_x × ortho_y\n",
       "      Attributes:\n",
       "       _FillValue           = \u001b[36m-9999\u001b[39m\n",
       "       long_name            = \u001b[36mGLT Line Lookup\u001b[39m\n",
       "       units                = \u001b[36mpixel location\u001b[39m\n",
       "\n"
      ]
     },
     "metadata": {},
     "output_type": "display_data"
    }
   ],
   "source": [
    "ds = Dataset(filename)"
   ]
  },
  {
   "cell_type": "code",
   "execution_count": null,
   "metadata": {},
   "outputs": [],
   "source": []
  }
 ],
 "metadata": {
  "kernelspec": {
   "display_name": "Julia 1.10.4",
   "language": "julia",
   "name": "julia-1.10"
  },
  "language_info": {
   "file_extension": ".jl",
   "mimetype": "application/julia",
   "name": "julia",
   "version": "1.10.4"
  }
 },
 "nbformat": 4,
 "nbformat_minor": 2
}
